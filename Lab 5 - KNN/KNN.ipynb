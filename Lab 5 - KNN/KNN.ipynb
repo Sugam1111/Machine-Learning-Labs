{
 "cells": [
  {
   "cell_type": "markdown",
   "metadata": {},
   "source": [
    "# K Nearest Neighbors"
   ]
  },
  {
   "cell_type": "markdown",
   "metadata": {},
   "source": [
    "### Import Libraries"
   ]
  },
  {
   "cell_type": "code",
   "execution_count": null,
   "metadata": {
    "ExecuteTime": {
     "end_time": "2019-09-09T23:33:18.388814Z",
     "start_time": "2019-09-09T23:33:16.118410Z"
    }
   },
   "outputs": [],
   "source": [
    "import pandas as pd\n",
    "import numpy as np\n",
    "from matplotlib import pyplot as plt\n",
    "import seaborn as sns\n",
    "%matplotlib inline"
   ]
  },
  {
   "cell_type": "markdown",
   "metadata": {},
   "source": [
    "## Task 1: Iris Dataset"
   ]
  },
  {
   "cell_type": "markdown",
   "metadata": {},
   "source": [
    "### Load Dataset"
   ]
  },
  {
   "cell_type": "code",
   "execution_count": null,
   "metadata": {
    "ExecuteTime": {
     "end_time": "2019-09-09T23:33:18.941609Z",
     "start_time": "2019-09-09T23:33:18.390839Z"
    }
   },
   "outputs": [],
   "source": [
    "from sklearn import datasets\n",
    "iris = datasets.load_iris()\n",
    "# explore what is in variable iris"
   ]
  },
  {
   "cell_type": "code",
   "execution_count": null,
   "metadata": {
    "ExecuteTime": {
     "end_time": "2019-09-09T23:33:18.947551Z",
     "start_time": "2019-09-09T23:33:18.943562Z"
    }
   },
   "outputs": [],
   "source": [
    "X_iris = None\n",
    "y_iris = None"
   ]
  },
  {
   "cell_type": "markdown",
   "metadata": {},
   "source": [
    "### Split dataset into train and test"
   ]
  },
  {
   "cell_type": "code",
   "execution_count": null,
   "metadata": {
    "ExecuteTime": {
     "end_time": "2019-09-09T23:33:18.980536Z",
     "start_time": "2019-09-09T23:33:18.949545Z"
    }
   },
   "outputs": [],
   "source": [
    "from sklearn.model_selection import train_test_split\n",
    "\n",
    "X_train, X_test, y_train, y_test = None\n"
   ]
  },
  {
   "cell_type": "markdown",
   "metadata": {},
   "source": [
    "### Define KNN Algorithm"
   ]
  },
  {
   "cell_type": "code",
   "execution_count": null,
   "metadata": {
    "ExecuteTime": {
     "end_time": "2019-09-09T23:33:18.990545Z",
     "start_time": "2019-09-09T23:33:18.983527Z"
    }
   },
   "outputs": [],
   "source": [
    "# Calculate euclidean distance between x1 and x2. You can assume both x1 and x2 are numpy arrays\n",
    "def distance(x1, x2):\n",
    "    return None\n",
    "\n",
    "# Implement knn algorithm. Return majority label for given test_sample and k\n",
    "def knn(X_train, y_train, test_sample, k):\n",
    "    return None\n",
    "\n",
    "# Return class of each test sample predicted by knn \n",
    "def predict(X_train, y_train, X_test, k):\n",
    "    return None"
   ]
  },
  {
   "cell_type": "markdown",
   "metadata": {},
   "source": [
    "### Get results for k=3"
   ]
  },
  {
   "cell_type": "code",
   "execution_count": null,
   "metadata": {
    "ExecuteTime": {
     "end_time": "2019-09-09T23:33:19.094481Z",
     "start_time": "2019-09-09T23:33:18.993499Z"
    }
   },
   "outputs": [],
   "source": [
    "y_pred = None"
   ]
  },
  {
   "cell_type": "markdown",
   "metadata": {},
   "source": [
    "### Evaluate results"
   ]
  },
  {
   "cell_type": "code",
   "execution_count": null,
   "metadata": {
    "ExecuteTime": {
     "end_time": "2019-09-09T23:33:19.107195Z",
     "start_time": "2019-09-09T23:33:19.097222Z"
    }
   },
   "outputs": [],
   "source": [
    "from sklearn.metrics import classification_report, confusion_matrix, accuracy_score\n",
    "print() # accuracy_score\n",
    "print() # confusion_matrix\n",
    "print() # classification_report"
   ]
  },
  {
   "cell_type": "markdown",
   "metadata": {
    "ExecuteTime": {
     "end_time": "2019-09-09T22:09:56.506725Z",
     "start_time": "2019-09-09T22:09:28.077772Z"
    }
   },
   "source": [
    "### Hyperparameter Tuning"
   ]
  },
  {
   "cell_type": "code",
   "execution_count": null,
   "metadata": {
    "ExecuteTime": {
     "end_time": "2019-09-09T23:33:19.927073Z",
     "start_time": "2019-09-09T23:33:19.109189Z"
    }
   },
   "outputs": [],
   "source": [
    "for k in range(2,10):\n",
    "    print(k,':',None) # predict for different k values and calculate accuracy_score"
   ]
  },
  {
   "cell_type": "markdown",
   "metadata": {},
   "source": [
    "## Task 2 : MNIST"
   ]
  },
  {
   "cell_type": "markdown",
   "metadata": {},
   "source": [
    "### Load Dataset"
   ]
  },
  {
   "cell_type": "code",
   "execution_count": null,
   "metadata": {
    "ExecuteTime": {
     "end_time": "2019-09-09T23:33:22.860155Z",
     "start_time": "2019-09-09T23:33:19.928997Z"
    },
    "scrolled": true
   },
   "outputs": [],
   "source": [
    "mnist = None # from mnist.csv\n",
    "mnist.head()"
   ]
  },
  {
   "cell_type": "code",
   "execution_count": null,
   "metadata": {
    "ExecuteTime": {
     "end_time": "2019-09-09T23:33:22.914013Z",
     "start_time": "2019-09-09T23:33:22.862151Z"
    }
   },
   "outputs": [],
   "source": [
    "mnist.info()"
   ]
  },
  {
   "cell_type": "code",
   "execution_count": null,
   "metadata": {
    "ExecuteTime": {
     "end_time": "2019-09-09T23:33:23.064635Z",
     "start_time": "2019-09-09T23:33:22.916021Z"
    }
   },
   "outputs": [],
   "source": [
    "# Choose less than 5000 samples during the lab otherwise it'll take too much time to calculate distances\n",
    "X_mnist = None\n",
    "y_mnist = None"
   ]
  },
  {
   "cell_type": "markdown",
   "metadata": {},
   "source": [
    "### Visualize the data"
   ]
  },
  {
   "cell_type": "code",
   "execution_count": null,
   "metadata": {
    "ExecuteTime": {
     "end_time": "2019-09-09T23:33:23.215216Z",
     "start_time": "2019-09-09T23:33:23.067601Z"
    }
   },
   "outputs": [],
   "source": [
    "plt.imshow(X_mnist.iloc[90].values.reshape((28, 28)), cmap='gray')\n",
    "print(y_mnist.iloc[90])"
   ]
  },
  {
   "cell_type": "markdown",
   "metadata": {},
   "source": [
    "### Split dataset into train and test"
   ]
  },
  {
   "cell_type": "code",
   "execution_count": null,
   "metadata": {
    "ExecuteTime": {
     "end_time": "2019-09-09T23:33:23.327930Z",
     "start_time": "2019-09-09T23:33:23.217203Z"
    }
   },
   "outputs": [],
   "source": [
    "from sklearn.model_selection import train_test_split\n",
    "\n",
    "X_train, X_test, y_train, y_test = None\n"
   ]
  },
  {
   "cell_type": "markdown",
   "metadata": {
    "ExecuteTime": {
     "end_time": "2019-09-09T23:15:00.329721Z",
     "start_time": "2019-09-09T23:15:00.325719Z"
    }
   },
   "source": [
    "### Modify KNN algorithm to include hyperparameter tuning"
   ]
  },
  {
   "cell_type": "markdown",
   "metadata": {},
   "source": [
    "(So that we can avoid calculating distance every time we change k)"
   ]
  },
  {
   "cell_type": "code",
   "execution_count": null,
   "metadata": {
    "ExecuteTime": {
     "end_time": "2019-09-09T23:33:23.340873Z",
     "start_time": "2019-09-09T23:33:23.330898Z"
    }
   },
   "outputs": [],
   "source": [
    "# Parameter k is now a list of values\n",
    "\n",
    "# Distance function remains same\n",
    "\n",
    "# For each k in k_values return majority label\n",
    "def knn_batch_k(X_train, y_train, test_sample, k_values):\n",
    "    return None\n",
    "\n",
    "# Return class of each test sample predicted by knn for each k in k_values\n",
    "def predict_batch_k(X_train, y_train, X_test, k_values=np.arange(2,10)):\n",
    "    return None"
   ]
  },
  {
   "cell_type": "markdown",
   "metadata": {},
   "source": [
    "### Get results for k=[2,3,4,5,6,7,8,9]"
   ]
  },
  {
   "cell_type": "code",
   "execution_count": null,
   "metadata": {
    "ExecuteTime": {
     "start_time": "2019-09-09T23:33:16.153Z"
    }
   },
   "outputs": [],
   "source": [
    "k_values = None\n",
    "y_pred = None"
   ]
  },
  {
   "cell_type": "markdown",
   "metadata": {},
   "source": [
    "### Evaluate results"
   ]
  },
  {
   "cell_type": "code",
   "execution_count": null,
   "metadata": {},
   "outputs": [],
   "source": [
    "# Change this code according to your output format"
   ]
  },
  {
   "cell_type": "code",
   "execution_count": null,
   "metadata": {
    "ExecuteTime": {
     "start_time": "2019-09-09T23:33:16.156Z"
    }
   },
   "outputs": [],
   "source": [
    "y_pred = np.asarray(y_pred)\n",
    "y_pred = y_pred.T\n",
    "y_pred"
   ]
  },
  {
   "cell_type": "code",
   "execution_count": null,
   "metadata": {
    "ExecuteTime": {
     "start_time": "2019-09-09T23:33:16.159Z"
    }
   },
   "outputs": [],
   "source": [
    "itr = 0\n",
    "for k in k_values:\n",
    "    print(k,':',accuracy_score(y_test, y_pred[itr]))\n",
    "    itr+=1"
   ]
  }
 ],
 "metadata": {
  "kernelspec": {
   "display_name": "Python 3",
   "language": "python",
   "name": "python3"
  },
  "language_info": {
   "codemirror_mode": {
    "name": "ipython",
    "version": 3
   },
   "file_extension": ".py",
   "mimetype": "text/x-python",
   "name": "python",
   "nbconvert_exporter": "python",
   "pygments_lexer": "ipython3",
   "version": "3.7.3"
  },
  "toc": {
   "base_numbering": 1,
   "nav_menu": {},
   "number_sections": true,
   "sideBar": true,
   "skip_h1_title": false,
   "title_cell": "Table of Contents",
   "title_sidebar": "Contents",
   "toc_cell": false,
   "toc_position": {},
   "toc_section_display": true,
   "toc_window_display": false
  },
  "varInspector": {
   "cols": {
    "lenName": 16,
    "lenType": 16,
    "lenVar": 40
   },
   "kernels_config": {
    "python": {
     "delete_cmd_postfix": "",
     "delete_cmd_prefix": "del ",
     "library": "var_list.py",
     "varRefreshCmd": "print(var_dic_list())"
    },
    "r": {
     "delete_cmd_postfix": ") ",
     "delete_cmd_prefix": "rm(",
     "library": "var_list.r",
     "varRefreshCmd": "cat(var_dic_list()) "
    }
   },
   "types_to_exclude": [
    "module",
    "function",
    "builtin_function_or_method",
    "instance",
    "_Feature"
   ],
   "window_display": false
  }
 },
 "nbformat": 4,
 "nbformat_minor": 2
}
